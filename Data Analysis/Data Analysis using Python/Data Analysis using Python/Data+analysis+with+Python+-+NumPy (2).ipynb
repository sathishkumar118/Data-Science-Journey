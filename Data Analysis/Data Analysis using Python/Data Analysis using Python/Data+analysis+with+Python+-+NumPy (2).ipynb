{
 "cells": [
  {
   "cell_type": "code",
   "execution_count": 1,
   "metadata": {},
   "outputs": [
    {
     "name": "stdout",
     "output_type": "stream",
     "text": [
      "[1 2 3]\n"
     ]
    }
   ],
   "source": [
    "import numpy as np\n",
    "\n",
    "# Create a 1D array\n",
    "\n",
    "arr1 = np.array([1,2,3])\n",
    "\n",
    "print(arr1)"
   ]
  },
  {
   "cell_type": "code",
   "execution_count": 2,
   "metadata": {},
   "outputs": [
    {
     "name": "stdout",
     "output_type": "stream",
     "text": [
      "<class 'numpy.ndarray'>\n"
     ]
    }
   ],
   "source": [
    "# check the array\n",
    "\n",
    "print(type(arr1))"
   ]
  },
  {
   "cell_type": "code",
   "execution_count": 3,
   "metadata": {},
   "outputs": [
    {
     "name": "stdout",
     "output_type": "stream",
     "text": [
      "(3,)\n"
     ]
    }
   ],
   "source": [
    "# Check the shape of the array\n",
    "\n",
    "print(arr1.shape)"
   ]
  },
  {
   "cell_type": "code",
   "execution_count": 4,
   "metadata": {},
   "outputs": [
    {
     "data": {
      "text/plain": [
       "3"
      ]
     },
     "execution_count": 4,
     "metadata": {},
     "output_type": "execute_result"
    }
   ],
   "source": [
    "# accessing elements from the array\n",
    "\n",
    "arr1[2]"
   ]
  },
  {
   "cell_type": "code",
   "execution_count": 5,
   "metadata": {
    "collapsed": true
   },
   "outputs": [],
   "source": [
    "# Change an element from the array\n",
    "\n",
    "arr1[2]= 5"
   ]
  },
  {
   "cell_type": "code",
   "execution_count": 6,
   "metadata": {},
   "outputs": [
    {
     "data": {
      "text/plain": [
       "array([1, 2, 5])"
      ]
     },
     "execution_count": 6,
     "metadata": {},
     "output_type": "execute_result"
    }
   ],
   "source": [
    "arr1"
   ]
  },
  {
   "cell_type": "code",
   "execution_count": 7,
   "metadata": {},
   "outputs": [
    {
     "name": "stdout",
     "output_type": "stream",
     "text": [
      "[[1 2 3]\n",
      " [4 5 6]]\n"
     ]
    }
   ],
   "source": [
    "# Create a 2D array\n",
    "\n",
    "arr2 = np.array([[1,2,3], [4,5,6]])\n",
    "print(arr2)"
   ]
  },
  {
   "cell_type": "code",
   "execution_count": 8,
   "metadata": {},
   "outputs": [
    {
     "name": "stdout",
     "output_type": "stream",
     "text": [
      "The shape is 2 rows and 3 columns: (2, 3)\n"
     ]
    }
   ],
   "source": [
    "# Check the shape of the array\n",
    "\n",
    "print(\"The shape is 2 rows and 3 columns:\", arr2.shape)"
   ]
  },
  {
   "cell_type": "code",
   "execution_count": 9,
   "metadata": {},
   "outputs": [
    {
     "data": {
      "text/plain": [
       "3"
      ]
     },
     "execution_count": 9,
     "metadata": {},
     "output_type": "execute_result"
    }
   ],
   "source": [
    "# Accessing elements from the array\n",
    "\n",
    "arr2[0][2]"
   ]
  },
  {
   "cell_type": "code",
   "execution_count": 10,
   "metadata": {},
   "outputs": [
    {
     "data": {
      "text/plain": [
       "3"
      ]
     },
     "execution_count": 10,
     "metadata": {},
     "output_type": "execute_result"
    }
   ],
   "source": [
    "arr2[0,2]"
   ]
  },
  {
   "cell_type": "code",
   "execution_count": 11,
   "metadata": {},
   "outputs": [
    {
     "data": {
      "text/plain": [
       "2"
      ]
     },
     "execution_count": 11,
     "metadata": {},
     "output_type": "execute_result"
    }
   ],
   "source": [
    "arr2[0,-2]"
   ]
  },
  {
   "cell_type": "code",
   "execution_count": 12,
   "metadata": {},
   "outputs": [
    {
     "data": {
      "text/plain": [
       "3"
      ]
     },
     "execution_count": 12,
     "metadata": {},
     "output_type": "execute_result"
    }
   ],
   "source": [
    "arr2[0,-1]"
   ]
  },
  {
   "cell_type": "code",
   "execution_count": 13,
   "metadata": {},
   "outputs": [
    {
     "data": {
      "text/plain": [
       "4"
      ]
     },
     "execution_count": 13,
     "metadata": {},
     "output_type": "execute_result"
    }
   ],
   "source": [
    "arr2[-1, 0]"
   ]
  },
  {
   "cell_type": "code",
   "execution_count": 14,
   "metadata": {},
   "outputs": [
    {
     "name": "stdout",
     "output_type": "stream",
     "text": [
      "['India' 'China' 'USA' 'Mexico']\n"
     ]
    }
   ],
   "source": [
    "# Array of type string\n",
    "\n",
    "arr3 = np.array(['India', 'China', 'USA' , 'Mexico'])\n",
    "print(arr3)"
   ]
  },
  {
   "cell_type": "code",
   "execution_count": 15,
   "metadata": {},
   "outputs": [
    {
     "data": {
      "text/plain": [
       "'China'"
      ]
     },
     "execution_count": 15,
     "metadata": {},
     "output_type": "execute_result"
    }
   ],
   "source": [
    "arr3[1]"
   ]
  },
  {
   "cell_type": "code",
   "execution_count": 16,
   "metadata": {},
   "outputs": [
    {
     "name": "stdout",
     "output_type": "stream",
     "text": [
      "[ 0  2  4  6  8 10 12 14 16 18]\n"
     ]
    }
   ],
   "source": [
    "# Array of evenly spaced values within a specified interval\n",
    "\n",
    "arr = np.arange(0, 20, 2)\n",
    "print(arr)"
   ]
  },
  {
   "cell_type": "code",
   "execution_count": 17,
   "metadata": {},
   "outputs": [
    {
     "name": "stdout",
     "output_type": "stream",
     "text": [
      "[ 0.          0.52631579  1.05263158  1.57894737  2.10526316  2.63157895\n",
      "  3.15789474  3.68421053  4.21052632  4.73684211  5.26315789  5.78947368\n",
      "  6.31578947  6.84210526  7.36842105  7.89473684  8.42105263  8.94736842\n",
      "  9.47368421 10.        ]\n"
     ]
    }
   ],
   "source": [
    "# Array of evenly spaced number in a specified interval\n",
    "\n",
    "arr = np.linspace(0, 10, 20)\n",
    "print(arr)"
   ]
  },
  {
   "cell_type": "code",
   "execution_count": 18,
   "metadata": {},
   "outputs": [
    {
     "name": "stdout",
     "output_type": "stream",
     "text": [
      "[0.42200819 0.57585171 0.22831627 0.46441064 0.00334638 0.21127962\n",
      " 0.42194963 0.163801   0.14303295 0.08899656]\n",
      "\n",
      "\n",
      "[[0.28921797 0.45816524 0.80575906 0.8087363 ]\n",
      " [0.61115632 0.26423006 0.46612868 0.54767124]\n",
      " [0.85737677 0.07967155 0.23825272 0.66446402]]\n"
     ]
    }
   ],
   "source": [
    "# Array of random values between 0 and 1 in a given shape\n",
    "\n",
    "arr = np.random.rand(10)\n",
    "print(arr)\n",
    "print('\\n')\n",
    "arr = np.random.rand(3,4)\n",
    "print(arr)"
   ]
  },
  {
   "cell_type": "code",
   "execution_count": 19,
   "metadata": {},
   "outputs": [
    {
     "name": "stdout",
     "output_type": "stream",
     "text": [
      "[0. 0. 0. 0. 0. 0. 0. 0. 0. 0.]\n",
      "\n",
      "\n",
      "[[0. 0. 0.]\n",
      " [0. 0. 0.]]\n"
     ]
    }
   ],
   "source": [
    "# Array of zeros\n",
    "\n",
    "print(np.zeros(10))\n",
    "print('\\n')\n",
    "print(np.zeros((2,3)))"
   ]
  },
  {
   "cell_type": "code",
   "execution_count": 20,
   "metadata": {},
   "outputs": [
    {
     "name": "stdout",
     "output_type": "stream",
     "text": [
      "[[1. 1. 1. 1.]\n",
      " [1. 1. 1. 1.]\n",
      " [1. 1. 1. 1.]]\n"
     ]
    }
   ],
   "source": [
    "print(np.ones((3,4)))"
   ]
  },
  {
   "cell_type": "code",
   "execution_count": 21,
   "metadata": {},
   "outputs": [
    {
     "name": "stdout",
     "output_type": "stream",
     "text": [
      "[[10 10 10 10 10 10]\n",
      " [10 10 10 10 10 10]\n",
      " [10 10 10 10 10 10]\n",
      " [10 10 10 10 10 10]]\n"
     ]
    }
   ],
   "source": [
    "# Array of constant values in a given shape\n",
    "\n",
    "print(np.full((4,6),10))"
   ]
  },
  {
   "cell_type": "code",
   "execution_count": 22,
   "metadata": {},
   "outputs": [
    {
     "name": "stdout",
     "output_type": "stream",
     "text": [
      "[0 0 0 1 1 1 2 2 2]\n"
     ]
    }
   ],
   "source": [
    "# Create an array by repetition\n",
    "# epeat each element of an array by a specified number of times\n",
    "\n",
    "arr = [0, 1, 2]\n",
    "print(np.repeat(arr, 3)) "
   ]
  },
  {
   "cell_type": "code",
   "execution_count": 23,
   "metadata": {},
   "outputs": [
    {
     "name": "stdout",
     "output_type": "stream",
     "text": [
      "[0 1 2 0 1 2 0 1 2]\n"
     ]
    }
   ],
   "source": [
    "# Repeat an array by a specified number of times\n",
    "\n",
    "arr = [0, 1, 2]\n",
    "print(np.tile(arr, 3))"
   ]
  },
  {
   "cell_type": "code",
   "execution_count": 24,
   "metadata": {},
   "outputs": [
    {
     "name": "stdout",
     "output_type": "stream",
     "text": [
      "[[1. 0. 0.]\n",
      " [0. 1. 0.]\n",
      " [0. 0. 1.]]\n"
     ]
    }
   ],
   "source": [
    "# Create an idenity matrix\n",
    "\n",
    "identity_matrix = np.eye(3)\n",
    "print(identity_matrix)"
   ]
  },
  {
   "cell_type": "code",
   "execution_count": 25,
   "metadata": {},
   "outputs": [
    {
     "name": "stdout",
     "output_type": "stream",
     "text": [
      "[[1. 0. 0.]\n",
      " [0. 1. 0.]\n",
      " [0. 0. 1.]]\n"
     ]
    }
   ],
   "source": [
    "identity_matrix = np.identity(3)\n",
    "print(identity_matrix)"
   ]
  },
  {
   "cell_type": "code",
   "execution_count": 26,
   "metadata": {},
   "outputs": [
    {
     "name": "stdout",
     "output_type": "stream",
     "text": [
      "[[1 0 0 0 0]\n",
      " [0 2 0 0 0]\n",
      " [0 0 3 0 0]\n",
      " [0 0 0 4 0]\n",
      " [0 0 0 0 5]]\n"
     ]
    }
   ],
   "source": [
    "# Create a matrix with a specified diagonal array\n",
    "\n",
    "arr = np.diag([1,2,3,4,5])\n",
    "print(arr)"
   ]
  },
  {
   "cell_type": "code",
   "execution_count": 27,
   "metadata": {},
   "outputs": [
    {
     "name": "stdout",
     "output_type": "stream",
     "text": [
      "[[0.99223015 0.17359626 0.16966868 0.88688    0.69983739]\n",
      " [0.32259645 0.71849785 0.89785234 0.03866017 0.00305099]\n",
      " [0.55643948 0.05942044 0.49586252 0.00128778 0.23396058]\n",
      " [0.21752392 0.97095102 0.49166825 0.3222195  0.3836796 ]\n",
      " [0.88592398 0.51232878 0.4981844  0.48653906 0.59484215]]\n"
     ]
    }
   ],
   "source": [
    "arr = np.random.rand(5,5)\n",
    "print(arr)"
   ]
  },
  {
   "cell_type": "code",
   "execution_count": 28,
   "metadata": {},
   "outputs": [
    {
     "name": "stdout",
     "output_type": "stream",
     "text": [
      "[0.99223015 0.71849785 0.49586252 0.3222195  0.59484215]\n"
     ]
    }
   ],
   "source": [
    "# Extract the diagonal elements in the array\n",
    "print(np.diag(arr))"
   ]
  },
  {
   "cell_type": "code",
   "execution_count": 29,
   "metadata": {},
   "outputs": [
    {
     "name": "stdout",
     "output_type": "stream",
     "text": [
      "5\n"
     ]
    }
   ],
   "source": [
    "# Display the length of the array\n",
    "print(len(arr))"
   ]
  },
  {
   "cell_type": "code",
   "execution_count": 30,
   "metadata": {},
   "outputs": [
    {
     "name": "stdout",
     "output_type": "stream",
     "text": [
      "2\n"
     ]
    }
   ],
   "source": [
    "# Display the dimension of the array\n",
    "print(arr.ndim)"
   ]
  },
  {
   "cell_type": "code",
   "execution_count": 31,
   "metadata": {},
   "outputs": [
    {
     "name": "stdout",
     "output_type": "stream",
     "text": [
      "25\n"
     ]
    }
   ],
   "source": [
    "# Display the size of the elements\n",
    "print(arr.size)"
   ]
  },
  {
   "cell_type": "code",
   "execution_count": 32,
   "metadata": {},
   "outputs": [
    {
     "name": "stdout",
     "output_type": "stream",
     "text": [
      "[  4   6 -10  -9]\n"
     ]
    }
   ],
   "source": [
    "# print 4 random integers\n",
    "\n",
    "print(np.random.randint(-10, 10, 4))"
   ]
  },
  {
   "cell_type": "code",
   "execution_count": 33,
   "metadata": {},
   "outputs": [
    {
     "name": "stdout",
     "output_type": "stream",
     "text": [
      "[[10.99223015 10.17359626 10.16966868 10.88688    10.69983739]\n",
      " [10.32259645 10.71849785 10.89785234 10.03866017 10.00305099]\n",
      " [10.55643948 10.05942044 10.49586252 10.00128778 10.23396058]\n",
      " [10.21752392 10.97095102 10.49166825 10.3222195  10.3836796 ]\n",
      " [10.88592398 10.51232878 10.4981844  10.48653906 10.59484215]]\n",
      "\n",
      "\n",
      "[[-9.00776985 -9.82640374 -9.83033132 -9.11312    -9.30016261]\n",
      " [-9.67740355 -9.28150215 -9.10214766 -9.96133983 -9.99694901]\n",
      " [-9.44356052 -9.94057956 -9.50413748 -9.99871222 -9.76603942]\n",
      " [-9.78247608 -9.02904898 -9.50833175 -9.6777805  -9.6163204 ]\n",
      " [-9.11407602 -9.48767122 -9.5018156  -9.51346094 -9.40515785]]\n",
      "\n",
      "\n",
      "[[9.92230153 1.7359626  1.69668677 8.86879999 6.99837388]\n",
      " [3.22596455 7.1849785  8.97852342 0.38660168 0.03050989]\n",
      " [5.56439483 0.59420435 4.95862515 0.01287781 2.33960583]\n",
      " [2.17523924 9.70951015 4.91668246 3.22219502 3.83679597]\n",
      " [8.85923977 5.12328784 4.98184402 4.86539061 5.94842153]]\n",
      "\n",
      "\n",
      "[[0.09922302 0.01735963 0.01696687 0.088688   0.06998374]\n",
      " [0.03225965 0.07184979 0.08978523 0.00386602 0.0003051 ]\n",
      " [0.05564395 0.00594204 0.04958625 0.00012878 0.02339606]\n",
      " [0.02175239 0.0970951  0.04916682 0.03222195 0.03836796]\n",
      " [0.0885924  0.05123288 0.04981844 0.04865391 0.05948422]]\n"
     ]
    }
   ],
   "source": [
    "# Mathematical operations\n",
    "\n",
    "print(arr + 10)\n",
    "print('\\n')\n",
    "print(arr - 10)\n",
    "print('\\n')\n",
    "print(arr * 10)\n",
    "print('\\n')\n",
    "print(arr / 10)"
   ]
  },
  {
   "cell_type": "code",
   "execution_count": 34,
   "metadata": {},
   "outputs": [
    {
     "name": "stdout",
     "output_type": "stream",
     "text": [
      "[[2.69724303 1.18957519 1.1849122  2.42754388 2.01342527]\n",
      " [1.38070806 2.05134946 2.45432639 1.0394172  1.00305565]\n",
      " [1.74445028 1.06122132 1.6419138  1.00128861 1.26359468]\n",
      " [1.24299517 2.64045438 1.6350416  1.3801877  1.46767512]\n",
      " [2.42522421 1.66917382 1.64573057 1.62667664 1.81274479]]\n"
     ]
    }
   ],
   "source": [
    "# Exponentiation\n",
    "\n",
    "print(np.exp(arr))"
   ]
  },
  {
   "cell_type": "code",
   "execution_count": 35,
   "metadata": {},
   "outputs": [
    {
     "name": "stdout",
     "output_type": "stream",
     "text": [
      "[[-0.00780019 -1.75102302 -1.7739077  -0.12004559 -0.35690727]\n",
      " [-1.1313531  -0.33059257 -0.10774965 -3.25294545 -5.79228936]\n",
      " [-0.58619686 -2.82311709 -0.70145658 -6.65483439 -1.45260263]\n",
      " [-1.52544644 -0.02947926 -0.70995109 -1.13252228 -0.95794746]\n",
      " [-0.12112414 -0.6687887  -0.69678499 -0.72043809 -0.5194592 ]]\n"
     ]
    }
   ],
   "source": [
    "# Natural logarithm\n",
    "\n",
    "print(np.log(arr))"
   ]
  },
  {
   "cell_type": "code",
   "execution_count": 36,
   "metadata": {},
   "outputs": [
    {
     "name": "stdout",
     "output_type": "stream",
     "text": [
      "[[-0.0112533  -2.52619223 -2.55920785 -0.17318918 -0.51490835]\n",
      " [-1.63219751 -0.47694425 -0.15544989 -4.69300827 -8.35650713]\n",
      " [-0.8457033  -4.07289702 -1.01198793 -9.60089657 -2.0956626 ]\n",
      " [-2.20075401 -0.04252958 -1.02424291 -1.63388428 -1.38202605]\n",
      " [-0.17474519 -0.96485815 -1.00524824 -1.03937246 -0.74942121]]\n"
     ]
    }
   ],
   "source": [
    "# Base 2 logarithm\n",
    "\n",
    "print(np.log2(arr))"
   ]
  },
  {
   "cell_type": "code",
   "execution_count": 37,
   "metadata": {},
   "outputs": [
    {
     "name": "stdout",
     "output_type": "stream",
     "text": [
      "[[-0.00338758 -0.76045964 -0.77039833 -0.05213514 -0.15500286]\n",
      " [-0.49134041 -0.14357453 -0.04679508 -1.41273626 -2.5155593 ]\n",
      " [-0.25458206 -1.22606417 -0.30463872 -2.89015785 -0.6308573 ]\n",
      " [-0.66249297 -0.01280268 -0.30832784 -0.49184818 -0.41603129]\n",
      " [-0.05260354 -0.29045124 -0.30260987 -0.31288229 -0.22559826]]\n"
     ]
    }
   ],
   "source": [
    "# Base 10 logarithm\n",
    "\n",
    "print(np.log10(arr))"
   ]
  },
  {
   "cell_type": "code",
   "execution_count": 38,
   "metadata": {},
   "outputs": [
    {
     "name": "stdout",
     "output_type": "stream",
     "text": [
      "[[0.83724756 0.17272567 0.16885579 0.7751042  0.64409331]\n",
      " [0.31703014 0.6582546  0.7819901  0.03865054 0.00305098]\n",
      " [0.52816617 0.05938547 0.47579046 0.00128778 0.23183201]\n",
      " [0.21581256 0.82542295 0.47209718 0.31667261 0.37433506]\n",
      " [0.7744998  0.49020835 0.47783141 0.46756938 0.56037803]]\n"
     ]
    }
   ],
   "source": [
    "# sin function\n",
    "\n",
    "print(np.sin(arr))"
   ]
  },
  {
   "cell_type": "code",
   "execution_count": 39,
   "metadata": {},
   "outputs": [
    {
     "name": "stdout",
     "output_type": "stream",
     "text": [
      "-0.8011526357338306\n"
     ]
    }
   ],
   "source": [
    "print(np.sin(180))"
   ]
  },
  {
   "cell_type": "code",
   "execution_count": 40,
   "metadata": {},
   "outputs": [
    {
     "name": "stdout",
     "output_type": "stream",
     "text": [
      "0.0\n"
     ]
    }
   ],
   "source": [
    "print(np.sin(0))"
   ]
  },
  {
   "cell_type": "code",
   "execution_count": 41,
   "metadata": {},
   "outputs": [
    {
     "name": "stdout",
     "output_type": "stream",
     "text": [
      "[[0.54682403 0.98496997 0.98564077 0.63183342 0.76494693]\n",
      " [0.94841546 0.75279538 0.62329085 0.99925279 0.99999535]\n",
      " [0.84914103 0.99823513 0.87955866 0.99999917 0.97275584]\n",
      " [0.97643481 0.5645148  0.88154651 0.9485349  0.92729351]\n",
      " [0.63257415 0.87160528 0.87845156 0.88395638 0.82823696]]\n"
     ]
    }
   ],
   "source": [
    "# cos function\n",
    "\n",
    "print(np.cos(arr))"
   ]
  },
  {
   "cell_type": "code",
   "execution_count": 42,
   "metadata": {},
   "outputs": [
    {
     "name": "stdout",
     "output_type": "stream",
     "text": [
      "[[0.99223015 0.17359626 0.16966868 0.88688    0.69983739]\n",
      " [0.32259645 0.71849785 0.89785234 0.03866017 0.00305099]\n",
      " [0.55643948 0.05942044 0.49586252 0.00128778 0.23396058]\n",
      " [0.21752392 0.97095102 0.49166825 0.3222195  0.3836796 ]\n",
      " [0.88592398 0.51232878 0.4981844  0.48653906 0.59484215]]\n"
     ]
    }
   ],
   "source": [
    "print(arr)"
   ]
  },
  {
   "cell_type": "code",
   "execution_count": 43,
   "metadata": {},
   "outputs": [
    {
     "name": "stdout",
     "output_type": "stream",
     "text": [
      "[2.97471399 2.43479434 2.55323618 1.73558651 1.91537071]\n"
     ]
    }
   ],
   "source": [
    "# sum along the row\n",
    "print(np.sum(arr, axis=0))"
   ]
  },
  {
   "cell_type": "code",
   "execution_count": 44,
   "metadata": {},
   "outputs": [
    {
     "name": "stdout",
     "output_type": "stream",
     "text": [
      "[2.92221248 1.9806578  1.3469708  2.38604228 2.97781838]\n"
     ]
    }
   ],
   "source": [
    "# sum along the column\n",
    "print(np.sum(arr, axis=1))"
   ]
  },
  {
   "cell_type": "code",
   "execution_count": 45,
   "metadata": {},
   "outputs": [
    {
     "name": "stdout",
     "output_type": "stream",
     "text": [
      "0.0012877813963096951\n"
     ]
    }
   ],
   "source": [
    "# minimum item value along the row\n",
    "print(np.min(arr))"
   ]
  },
  {
   "cell_type": "code",
   "execution_count": 46,
   "metadata": {},
   "outputs": [
    {
     "name": "stdout",
     "output_type": "stream",
     "text": [
      "0.9922301525372236\n"
     ]
    }
   ],
   "source": [
    "print(np.max(arr))"
   ]
  },
  {
   "cell_type": "code",
   "execution_count": 47,
   "metadata": {},
   "outputs": [
    {
     "name": "stdout",
     "output_type": "stream",
     "text": [
      "0.46454806958433614\n"
     ]
    }
   ],
   "source": [
    "# calculate the overall mean\n",
    "\n",
    "print(np.mean(arr))"
   ]
  },
  {
   "cell_type": "code",
   "execution_count": 48,
   "metadata": {},
   "outputs": [
    {
     "name": "stdout",
     "output_type": "stream",
     "text": [
      "[0.5949428  0.48695887 0.51064724 0.3471173  0.38307414]\n"
     ]
    }
   ],
   "source": [
    "# calculate the mean along the row\n",
    "\n",
    "print(np.mean(arr, axis=0))"
   ]
  },
  {
   "cell_type": "code",
   "execution_count": 49,
   "metadata": {},
   "outputs": [
    {
     "name": "stdout",
     "output_type": "stream",
     "text": [
      "0.49166824613153004\n"
     ]
    }
   ],
   "source": [
    "# calculate the median\n",
    "print(np.median(arr))"
   ]
  },
  {
   "cell_type": "code",
   "execution_count": 50,
   "metadata": {},
   "outputs": [
    {
     "name": "stdout",
     "output_type": "stream",
     "text": [
      "0.30563359385732\n"
     ]
    }
   ],
   "source": [
    "# calculate the standard deviation\n",
    "print(np.std(arr))"
   ]
  },
  {
   "cell_type": "code",
   "execution_count": 51,
   "metadata": {},
   "outputs": [
    {
     "name": "stdout",
     "output_type": "stream",
     "text": [
      "0.09341189369414123\n"
     ]
    }
   ],
   "source": [
    "# calculate the variance\n",
    "print(np.var(arr))"
   ]
  },
  {
   "cell_type": "code",
   "execution_count": 52,
   "metadata": {},
   "outputs": [
    {
     "name": "stdout",
     "output_type": "stream",
     "text": [
      "[[0.99223015 0.17359626 0.16966868 0.88688    0.69983739]\n",
      " [0.32259645 0.71849785 0.89785234 0.03866017 0.00305099]\n",
      " [0.55643948 0.05942044 0.49586252 0.00128778 0.23396058]\n",
      " [0.21752392 0.97095102 0.49166825 0.3222195  0.3836796 ]\n",
      " [0.88592398 0.51232878 0.4981844  0.48653906 0.59484215]]\n",
      "\n",
      "\n",
      "[[0.89785234 0.03866017 0.00305099]\n",
      " [0.49586252 0.00128778 0.23396058]]\n"
     ]
    }
   ],
   "source": [
    "print(arr)\n",
    "print('\\n')\n",
    "print(arr[1:3, 2:5])"
   ]
  },
  {
   "cell_type": "code",
   "execution_count": 53,
   "metadata": {},
   "outputs": [
    {
     "name": "stdout",
     "output_type": "stream",
     "text": [
      "[[0.35612795 0.50546718 0.1656606  0.06054393 0.84889493]\n",
      " [0.22324207 0.90674322 0.98515321 0.27758528 0.61105448]\n",
      " [0.93145685 0.1692322  0.26343715 0.53979402 0.81682755]\n",
      " [0.17412512 0.80840123 0.85776828 0.41676607 0.00454651]\n",
      " [0.8556902  0.23195043 0.83545559 0.51886496 0.10875786]]\n"
     ]
    }
   ],
   "source": [
    "# Sort an array\n",
    "arr = np.random.rand(5,5)\n",
    "print(arr)"
   ]
  },
  {
   "cell_type": "code",
   "execution_count": 54,
   "metadata": {},
   "outputs": [
    {
     "name": "stdout",
     "output_type": "stream",
     "text": [
      "[[0.06054393 0.1656606  0.35612795 0.50546718 0.84889493]\n",
      " [0.22324207 0.27758528 0.61105448 0.90674322 0.98515321]\n",
      " [0.1692322  0.26343715 0.53979402 0.81682755 0.93145685]\n",
      " [0.00454651 0.17412512 0.41676607 0.80840123 0.85776828]\n",
      " [0.10875786 0.23195043 0.51886496 0.83545559 0.8556902 ]]\n"
     ]
    }
   ],
   "source": [
    "# sort along the column\n",
    "\n",
    "print(np.sort(arr, axis=1))"
   ]
  },
  {
   "cell_type": "code",
   "execution_count": 55,
   "metadata": {},
   "outputs": [
    {
     "name": "stdout",
     "output_type": "stream",
     "text": [
      "[[0.35612795 0.50546718 0.1656606  0.06054393 0.84889493]\n",
      " [0.22324207 0.90674322 0.98515321 0.27758528 0.61105448]\n",
      " [0.93145685 0.1692322  0.26343715 0.53979402 0.81682755]\n",
      " [0.17412512 0.80840123 0.85776828 0.41676607 0.00454651]\n",
      " [0.8556902  0.23195043 0.83545559 0.51886496 0.10875786]]\n",
      "\n",
      "\n",
      "[[0.35612795 0.22324207 0.93145685 0.17412512 0.8556902 ]\n",
      " [0.50546718 0.90674322 0.1692322  0.80840123 0.23195043]\n",
      " [0.1656606  0.98515321 0.26343715 0.85776828 0.83545559]\n",
      " [0.06054393 0.27758528 0.53979402 0.41676607 0.51886496]\n",
      " [0.84889493 0.61105448 0.81682755 0.00454651 0.10875786]]\n"
     ]
    }
   ],
   "source": [
    "# Transpose an array\n",
    "print(arr)\n",
    "print('\\n')\n",
    "print(arr.T)"
   ]
  },
  {
   "cell_type": "code",
   "execution_count": 56,
   "metadata": {},
   "outputs": [
    {
     "name": "stdout",
     "output_type": "stream",
     "text": [
      "[[0.35612795 0.22324207 0.93145685 0.17412512 0.8556902 ]\n",
      " [0.50546718 0.90674322 0.1692322  0.80840123 0.23195043]\n",
      " [0.1656606  0.98515321 0.26343715 0.85776828 0.83545559]\n",
      " [0.06054393 0.27758528 0.53979402 0.41676607 0.51886496]\n",
      " [0.84889493 0.61105448 0.81682755 0.00454651 0.10875786]]\n"
     ]
    }
   ],
   "source": [
    "print(arr.transpose())"
   ]
  },
  {
   "cell_type": "code",
   "execution_count": 57,
   "metadata": {},
   "outputs": [
    {
     "name": "stdout",
     "output_type": "stream",
     "text": [
      "[[0.35612795 0.50546718 0.1656606  0.06054393 0.84889493]\n",
      " [0.22324207 0.90674322 0.98515321 0.27758528 0.61105448]\n",
      " [0.93145685 0.1692322  0.26343715 0.53979402 0.81682755]\n",
      " [0.17412512 0.80840123 0.85776828 0.41676607 0.00454651]\n",
      " [0.8556902  0.23195043 0.83545559 0.51886496 0.10875786]]\n",
      "\n",
      "\n",
      "[0.35612795 0.50546718 0.1656606  0.06054393 0.84889493 0.22324207\n",
      " 0.90674322 0.98515321 0.27758528 0.61105448 0.93145685 0.1692322\n",
      " 0.26343715 0.53979402 0.81682755 0.17412512 0.80840123 0.85776828\n",
      " 0.41676607 0.00454651 0.8556902  0.23195043 0.83545559 0.51886496\n",
      " 0.10875786]\n"
     ]
    }
   ],
   "source": [
    "# Flatten the 2D array\n",
    "\n",
    "print(arr)\n",
    "print('\\n')\n",
    "print(arr.flatten())"
   ]
  },
  {
   "cell_type": "code",
   "execution_count": 58,
   "metadata": {
    "collapsed": true
   },
   "outputs": [],
   "source": [
    "# Append elements to an array\n",
    "\n",
    "arr = np.array([4,5,6,7])"
   ]
  },
  {
   "cell_type": "code",
   "execution_count": 59,
   "metadata": {},
   "outputs": [
    {
     "data": {
      "text/plain": [
       "array([4, 5, 6, 7, 8])"
      ]
     },
     "execution_count": 59,
     "metadata": {},
     "output_type": "execute_result"
    }
   ],
   "source": [
    "arr1 = np.append(arr, 8)\n",
    "arr1"
   ]
  },
  {
   "cell_type": "code",
   "execution_count": 60,
   "metadata": {},
   "outputs": [
    {
     "name": "stdout",
     "output_type": "stream",
     "text": [
      "[ 4  5  6  7  9 10 11]\n"
     ]
    }
   ],
   "source": [
    "arr2 = np.append(arr, [9,10,11])\n",
    "print(arr2)"
   ]
  },
  {
   "cell_type": "code",
   "execution_count": 61,
   "metadata": {},
   "outputs": [
    {
     "name": "stdout",
     "output_type": "stream",
     "text": [
      "[12 13 14  4  5  6  7]\n"
     ]
    }
   ],
   "source": [
    "# Insert elements to an array\n",
    "\n",
    "arr3 = np.insert(arr, 0, [12,13,14])\n",
    "print(arr3)"
   ]
  },
  {
   "cell_type": "code",
   "execution_count": 62,
   "metadata": {},
   "outputs": [
    {
     "name": "stdout",
     "output_type": "stream",
     "text": [
      "[4 5 6 7]\n",
      "\n",
      "\n",
      "[5 6 7]\n"
     ]
    }
   ],
   "source": [
    "# Remove elements from an array\n",
    "\n",
    "print(arr)\n",
    "print('\\n')\n",
    "arr4 = np.delete(arr, 0)\n",
    "print(arr4)"
   ]
  },
  {
   "cell_type": "code",
   "execution_count": 63,
   "metadata": {},
   "outputs": [
    {
     "name": "stdout",
     "output_type": "stream",
     "text": [
      "[ 4  5  6  7  9 10 11]\n",
      "\n",
      "\n",
      "[ 4  6  7 10 11]\n"
     ]
    }
   ],
   "source": [
    "# Delete multiple elements\n",
    "\n",
    "print(arr2)\n",
    "print('\\n')\n",
    "arr5 = np.delete(arr2, [1,4])\n",
    "print(arr5)"
   ]
  },
  {
   "cell_type": "code",
   "execution_count": 64,
   "metadata": {},
   "outputs": [
    {
     "data": {
      "text/plain": [
       "array([10, 13, 16, 19, 22, 25, 28, 31, 34, 37])"
      ]
     },
     "execution_count": 64,
     "metadata": {},
     "output_type": "execute_result"
    }
   ],
   "source": [
    "# Copy elements from an array\n",
    "\n",
    "arr1 = np.arange(10, 40, 3)\n",
    "arr1"
   ]
  },
  {
   "cell_type": "code",
   "execution_count": 65,
   "metadata": {},
   "outputs": [
    {
     "data": {
      "text/plain": [
       "array([10, 13, 16, 19, 22, 25, 28, 31, 34, 37])"
      ]
     },
     "execution_count": 65,
     "metadata": {},
     "output_type": "execute_result"
    }
   ],
   "source": [
    "arr_copy = np.copy(arr1)\n",
    "arr_copy"
   ]
  },
  {
   "cell_type": "code",
   "execution_count": 66,
   "metadata": {},
   "outputs": [
    {
     "name": "stdout",
     "output_type": "stream",
     "text": [
      "[10 13 16 19 22 25 28 31 34 37]\n"
     ]
    }
   ],
   "source": [
    "arr_copy = arr1.copy()\n",
    "print(arr_copy)"
   ]
  },
  {
   "cell_type": "code",
   "execution_count": 67,
   "metadata": {
    "collapsed": true
   },
   "outputs": [],
   "source": [
    "# Combine and split an array\n",
    "\n",
    "arr1 = np.array([[1,2,3,4], [1,2,3,4]])\n",
    "arr2 = np.array([[5,6,7,8], [5,6,7,8]])"
   ]
  },
  {
   "cell_type": "code",
   "execution_count": 68,
   "metadata": {},
   "outputs": [
    {
     "name": "stdout",
     "output_type": "stream",
     "text": [
      "[[1 2 3 4]\n",
      " [1 2 3 4]\n",
      " [5 6 7 8]\n",
      " [5 6 7 8]]\n"
     ]
    }
   ],
   "source": [
    "# Combine the array items by row\n",
    "\n",
    "cat = np.concatenate((arr1,arr2), axis=0)\n",
    "print(cat)"
   ]
  },
  {
   "cell_type": "code",
   "execution_count": 69,
   "metadata": {},
   "outputs": [
    {
     "name": "stdout",
     "output_type": "stream",
     "text": [
      "[[1 2 3 4 5 6 7 8]\n",
      " [1 2 3 4 5 6 7 8]]\n"
     ]
    }
   ],
   "source": [
    "# Combine array items by column\n",
    "\n",
    "cat = np. concatenate((arr1, arr2), axis=1)\n",
    "print(cat)"
   ]
  },
  {
   "cell_type": "code",
   "execution_count": 70,
   "metadata": {},
   "outputs": [
    {
     "name": "stdout",
     "output_type": "stream",
     "text": [
      "[[1 2 3 4]\n",
      " [1 2 3 4]\n",
      " [5 6 7 8]\n",
      " [5 6 7 8]]\n"
     ]
    }
   ],
   "source": [
    "# stack arrays vertically\n",
    "cat = np.vstack((arr1, arr2))\n",
    "print(cat)"
   ]
  },
  {
   "cell_type": "code",
   "execution_count": 71,
   "metadata": {},
   "outputs": [
    {
     "name": "stdout",
     "output_type": "stream",
     "text": [
      "[[1 2 3 4 5 6 7 8]\n",
      " [1 2 3 4 5 6 7 8]]\n"
     ]
    }
   ],
   "source": [
    "# Stack arrays horizontally\n",
    "cat = np.hstack((arr1, arr2))\n",
    "print(cat)"
   ]
  },
  {
   "cell_type": "code",
   "execution_count": 72,
   "metadata": {},
   "outputs": [
    {
     "name": "stdout",
     "output_type": "stream",
     "text": [
      "[1 2 3 4 5 6]\n"
     ]
    }
   ],
   "source": [
    "# Set operations\n",
    "\n",
    "# Find elements from an array\n",
    "arr = np.array([1,2,3,4,5,6,3,6,1,2,4])\n",
    "print(np.unique(arr))"
   ]
  },
  {
   "cell_type": "code",
   "execution_count": 73,
   "metadata": {},
   "outputs": [
    {
     "name": "stdout",
     "output_type": "stream",
     "text": [
      "[1 2 3 4 5 6]\n",
      "[2 2 2 1 1 1]\n"
     ]
    }
   ],
   "source": [
    "# return the number of times each unique item appears\n",
    "arr = np.array([1,1,2,2,3,3,4,5,6])\n",
    "uniques, counts = np.unique(arr, return_counts=True)\n",
    "print(uniques)\n",
    "print(counts)"
   ]
  },
  {
   "cell_type": "code",
   "execution_count": 74,
   "metadata": {
    "collapsed": true
   },
   "outputs": [],
   "source": [
    "# Intersection of 2 array elements\n",
    "\n",
    "arr1 = np.array([1,2,3,4,5])\n",
    "arr2 = np.array([3,4,5,6,7])"
   ]
  },
  {
   "cell_type": "code",
   "execution_count": 75,
   "metadata": {},
   "outputs": [
    {
     "name": "stdout",
     "output_type": "stream",
     "text": [
      "[3 4 5]\n"
     ]
    }
   ],
   "source": [
    "print(np.intersect1d(arr1, arr2))"
   ]
  },
  {
   "cell_type": "code",
   "execution_count": 76,
   "metadata": {},
   "outputs": [
    {
     "name": "stdout",
     "output_type": "stream",
     "text": [
      "[1 2 3 4 5 6 7]\n"
     ]
    }
   ],
   "source": [
    "# Union of 2 array elements\n",
    "\n",
    "print(np.union1d(arr1, arr2))"
   ]
  },
  {
   "cell_type": "code",
   "execution_count": 77,
   "metadata": {},
   "outputs": [
    {
     "name": "stdout",
     "output_type": "stream",
     "text": [
      "[1 2]\n",
      "[6 7]\n"
     ]
    }
   ],
   "source": [
    "# Elements present in first array but not in the second array\n",
    "print(np.setdiff1d(arr1, arr2))\n",
    "print(np.setdiff1d(arr2, arr1))"
   ]
  },
  {
   "cell_type": "code",
   "execution_count": 78,
   "metadata": {},
   "outputs": [
    {
     "name": "stdout",
     "output_type": "stream",
     "text": [
      "[1 2 6 7]\n"
     ]
    }
   ],
   "source": [
    "# Elements present in either of the arrays but not both\n",
    "\n",
    "print(np.setxor1d(arr1, arr2))"
   ]
  },
  {
   "cell_type": "code",
   "execution_count": null,
   "metadata": {
    "collapsed": true
   },
   "outputs": [],
   "source": []
  }
 ],
 "metadata": {
  "kernelspec": {
   "display_name": "Python 3.9.12 ('base')",
   "language": "python",
   "name": "python3"
  },
  "language_info": {
   "codemirror_mode": {
    "name": "ipython",
    "version": 3
   },
   "file_extension": ".py",
   "mimetype": "text/x-python",
   "name": "python",
   "nbconvert_exporter": "python",
   "pygments_lexer": "ipython3",
   "version": "3.9.12"
  },
  "vscode": {
   "interpreter": {
    "hash": "40d3a090f54c6569ab1632332b64b2c03c39dcf918b08424e98f38b5ae0af88f"
   }
  }
 },
 "nbformat": 4,
 "nbformat_minor": 2
}
